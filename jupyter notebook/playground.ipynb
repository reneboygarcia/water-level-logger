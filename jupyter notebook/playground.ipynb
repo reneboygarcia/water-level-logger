{
 "cells": [
  {
   "cell_type": "code",
   "execution_count": 1,
   "metadata": {},
   "outputs": [
    {
     "name": "stdout",
     "output_type": "stream",
     "text": [
      "Setup Complete\n"
     ]
    }
   ],
   "source": [
    "import time\n",
    "from oauth2client.service_account import ServiceAccountCredentials\n",
    "import gspread\n",
    "\n",
    "print(\"Setup Complete\")"
   ]
  },
  {
   "cell_type": "code",
   "execution_count": null,
   "metadata": {},
   "outputs": [],
   "source": [
    "SHEET_URL = \"SHEETS_URL_HERE\"\n",
    "\n",
    "\n",
    "def log_to_sheets(distance, sheet_url):\n",
    "    try:\n",
    "        scope = [\n",
    "            \"https://spreadsheets.google.com/feeds\",\n",
    "            \"https://www.googleapis.com/auth/drive\",\n",
    "        ]\n",
    "        creds = ServiceAccountCredentials.from_json_keyfile_name(\n",
    "            \"creds/credentials.json\", scopes=scope\n",
    "        )\n",
    "        client_email = creds.service_account_email\n",
    "        print(f\"Service account email: {client_email}\")\n",
    "        client = gspread.authorize(creds)\n",
    "        sheet = client.open_by_url(sheet_url).sheet1\n",
    "\n",
    "        # Print if sheet is empty\n",
    "        print(f\"Is sheet empty? {not sheet.get_all_values()}\")\n",
    "\n",
    "        # Check if the sheet is empty (no headers)\n",
    "        if not sheet.get_all_values():\n",
    "            # Add header row\n",
    "            sheet.insert_row([\"Timestamp\", \"Distance\"], index=1)\n",
    "            print(\"Added header row\")\n",
    "\n",
    "        # Append data\n",
    "        sheet.append_row([time.strftime(\"%Y-%m-%d %H:%M:%S\"), distance])\n",
    "\n",
    "    except gspread.exceptions.SpreadsheetNotFound:\n",
    "        print(\"Spreadsheet not found. Please check the sheet ID and permissions.\")\n",
    "    except Exception as e:\n",
    "        print(f\"An error occurred: {e}\")\n",
    "\n",
    "\n",
    "print(log_to_sheets(distance=1, sheet_url=SHEET_URL))"
   ]
  },
  {
   "cell_type": "code",
   "execution_count": null,
   "metadata": {},
   "outputs": [],
   "source": []
  }
 ],
 "metadata": {
  "kernelspec": {
   "display_name": "base",
   "language": "python",
   "name": "python3"
  },
  "language_info": {
   "codemirror_mode": {
    "name": "ipython",
    "version": 3
   },
   "file_extension": ".py",
   "mimetype": "text/x-python",
   "name": "python",
   "nbconvert_exporter": "python",
   "pygments_lexer": "ipython3",
   "version": "3.10.12"
  }
 },
 "nbformat": 4,
 "nbformat_minor": 2
}
